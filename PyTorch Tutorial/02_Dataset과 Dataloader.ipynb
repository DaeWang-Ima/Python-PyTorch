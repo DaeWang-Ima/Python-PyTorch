{
 "cells": [
  {
   "cell_type": "markdown",
   "id": "6dd8f281-974a-415e-bf59-a451e1f28e93",
   "metadata": {},
   "source": [
    "# [DATASET과 DATALOADER](https://tutorials.pytorch.kr/beginner/basics/data_tutorial.html)\n",
    "\n",
    "- 데이터 샘플을 처리하는 코드는 지저분(messy)하고 유지보수가 어려울 수 있다.\n",
    "\n",
    "- 더 나은 가독성(readability)과 모듈성(modularity)을 위해 데이터셋 코드를 모델 학습 코드로부터 분리하는 것이 이상적이다.\n",
    "\n",
    "- PyTorch는 `torch.utils.data.DataLoader`와 `torch.utils.data.Dataset`의 두 가지 데이터 기본 요소를 제공하며 미리 준비해된(pre-loaded) 데이터셋 뿐만 아니라 가지고 있는 데이터를 사용할 수 있도록 한다.\n",
    "\n",
    "- `Dataset`은 샘플과 정답(label)을 저장하고, `DataLoader`는 `Dataset`을 샘플에 쉽게 접근할 수 있도록 순회 가능한 객체(iterable)로 감싸준다.\n",
    "\n",
    "- PyTorch의 도메인 특화 라이브러리들은 (FashionMNIST와 같은) 다양한 미리 준비해둔 데이터셋을 제공한다.\n",
    "\n",
    "- 데이터셋은 `torch.utils.data.Dataset`의 하위 클래스로 개별 데이터를 특정하는 함수가 구현되어 있다.\n",
    "\n",
    "- 이러한 데이터셋은 모델을 만들어보고(prototype) 성능을 측정(benchmark) 하는데 사용할 수 있다.\n",
    "\n",
    "- [이미지 데이터](https://pytorch.org/vision/stable/datasets.html), [텍스트 데이터](https://pytorch.org/text/stable/datasets.html), [오디오 데이터](https://pytorch.org/audio/stable/datasets.html)"
   ]
  },
  {
   "cell_type": "markdown",
   "id": "f147cb30-d735-4b88-ad79-8d46425cd8de",
   "metadata": {},
   "source": [
    "## 데이터셋 불러오기\n",
    "\n",
    "- **TorchVision** 에서 [Fashion-MNIST](https://research.zalando.com/project/fashion_mnist/fashion_mnist/) 데이터셋을 불러오는 예제를 살펴보자.\n",
    "\n",
    "- Fashion-MNIST는 Zalando의 기사 이미지 데이터셋으로 60,000개의 학습 예제와 10,000개의 테스트 예제로 이루어져 있다.\n",
    "\n",
    "- 각 예제는 흑백의 28x28 이미지와 10개 분류(class) 중 하나인 정답(label)으로 구성되어있다."
   ]
  },
  {
   "cell_type": "markdown",
   "id": "ad97827c-e16a-4fe6-8c5e-42846b9df740",
   "metadata": {},
   "source": [
    "다음 매개변수들을 사용하여 데이터셋을 불러온다.\n",
    "\n",
    "- `root` 는 학습/테스트 데이터가 저장되는 경로입니다.\n",
    "\n",
    "-  `train` 은 학습용 또는 테스트용 데이터셋 여부를 지정합니다.\n",
    "\n",
    "- `download = True` 는 `root` 에 데이터가 없는 경우 인터넷에서 다운로드합니다.\n",
    "\n",
    "- `transform` 과 `target_transform` 은 특징(feature)과 정답(label) 변형(transform)을 지정한다."
   ]
  },
  {
   "cell_type": "code",
   "execution_count": 3,
   "id": "dd5d2e35-abf6-4fe3-9c17-03bd98570e1b",
   "metadata": {},
   "outputs": [],
   "source": [
    "# 라이브러리 불러오기\n",
    "import platform\n",
    "\n",
    "import matplotlib.pyplot as plt\n",
    "%matplotlib inline\n",
    "\n",
    "if platform.system() == \"Windows\":\n",
    "    plt.rcParams[\"font.family\"] = \"Malgun Gothic\"\n",
    "else:\n",
    "    plt.rcParams[\"font.family\"] = \"AppleGothic\"\n",
    "    \n",
    "import torch\n",
    "from torch.utils.data import Dataset\n",
    "from torchvision import datasets\n",
    "from torchvision.transforms import ToTensor"
   ]
  },
  {
   "cell_type": "code",
   "execution_count": 12,
   "id": "5672b44a-c995-4094-ae3f-27e1928815c7",
   "metadata": {},
   "outputs": [
    {
     "name": "stdout",
     "output_type": "stream",
     "text": [
      "Downloading http://fashion-mnist.s3-website.eu-central-1.amazonaws.com/train-images-idx3-ubyte.gz\n",
      "Downloading http://fashion-mnist.s3-website.eu-central-1.amazonaws.com/train-images-idx3-ubyte.gz to data/FashionMNIST/raw/train-images-idx3-ubyte.gz\n"
     ]
    },
    {
     "name": "stderr",
     "output_type": "stream",
     "text": [
      "100.0%\n"
     ]
    },
    {
     "name": "stdout",
     "output_type": "stream",
     "text": [
      "Extracting data/FashionMNIST/raw/train-images-idx3-ubyte.gz to data/FashionMNIST/raw\n",
      "\n",
      "Downloading http://fashion-mnist.s3-website.eu-central-1.amazonaws.com/train-labels-idx1-ubyte.gz\n",
      "Downloading http://fashion-mnist.s3-website.eu-central-1.amazonaws.com/train-labels-idx1-ubyte.gz to data/FashionMNIST/raw/train-labels-idx1-ubyte.gz\n"
     ]
    },
    {
     "name": "stderr",
     "output_type": "stream",
     "text": [
      "100.6%\n"
     ]
    },
    {
     "name": "stdout",
     "output_type": "stream",
     "text": [
      "Extracting data/FashionMNIST/raw/train-labels-idx1-ubyte.gz to data/FashionMNIST/raw\n",
      "\n",
      "Downloading http://fashion-mnist.s3-website.eu-central-1.amazonaws.com/t10k-images-idx3-ubyte.gz\n",
      "Downloading http://fashion-mnist.s3-website.eu-central-1.amazonaws.com/t10k-images-idx3-ubyte.gz to data/FashionMNIST/raw/t10k-images-idx3-ubyte.gz\n"
     ]
    },
    {
     "name": "stderr",
     "output_type": "stream",
     "text": [
      "100.0%\n"
     ]
    },
    {
     "name": "stdout",
     "output_type": "stream",
     "text": [
      "Extracting data/FashionMNIST/raw/t10k-images-idx3-ubyte.gz to data/FashionMNIST/raw\n",
      "\n",
      "Downloading http://fashion-mnist.s3-website.eu-central-1.amazonaws.com/t10k-labels-idx1-ubyte.gz\n",
      "Downloading http://fashion-mnist.s3-website.eu-central-1.amazonaws.com/t10k-labels-idx1-ubyte.gz to data/FashionMNIST/raw/t10k-labels-idx1-ubyte.gz\n"
     ]
    },
    {
     "name": "stderr",
     "output_type": "stream",
     "text": [
      "119.3%"
     ]
    },
    {
     "name": "stdout",
     "output_type": "stream",
     "text": [
      "Extracting data/FashionMNIST/raw/t10k-labels-idx1-ubyte.gz to data/FashionMNIST/raw\n",
      "\n"
     ]
    },
    {
     "name": "stderr",
     "output_type": "stream",
     "text": [
      "\n"
     ]
    }
   ],
   "source": [
    "# 학습용 데이터 불러오기\n",
    "training_data = datasets.FashionMNIST(root = \"data\",\n",
    "                                      train = True,\n",
    "                                      download = True,\n",
    "                                      transform = ToTensor())\n",
    "\n",
    "# 테스트용 데이터 불러오기\n",
    "test_data = datasets.FashionMNIST(root = \"data\",\n",
    "                                  train = False,\n",
    "                                  download = True,\n",
    "                                  transform = ToTensor())"
   ]
  },
  {
   "cell_type": "markdown",
   "id": "eb736b41-e306-4122-bcbd-18fce26bd8af",
   "metadata": {},
   "source": [
    "- 위의 코드처럼 데이터를 불러온 후, 아래와 같은 메서드를 사용하면 특징(feature)과 정답(label)을 확인할 수 있다.\n",
    "\n",
    "- `data` : 불러온 데이터의 특징을 확인할 수 있다.\n",
    "\n",
    "- `targets` : 불러온 데이터의 정답을 확인할 수 있다."
   ]
  },
  {
   "cell_type": "code",
   "execution_count": 34,
   "id": "f9836003-1aeb-46c2-9cb9-448cc7feb4f8",
   "metadata": {},
   "outputs": [
    {
     "name": "stdout",
     "output_type": "stream",
     "text": [
      "Shape of trainging data tensor : torch.Size([60000, 28, 28]) \n",
      "\n",
      "Unique lables of training data : tensor([0, 1, 2, 3, 4, 5, 6, 7, 8, 9]) \n",
      "\n",
      "Shape of test data tensor : torch.Size([10000, 28, 28]) \n",
      "\n",
      "Unique lables of test data : tensor([0, 1, 2, 3, 4, 5, 6, 7, 8, 9])\n"
     ]
    }
   ],
   "source": [
    "print(\"Shape of trainging data tensor :\", training_data.data.shape, \"\\n\")\n",
    "print(\"Unique lables of training data :\", training_data.targets.unique(), \"\\n\")\n",
    "\n",
    "print(\"Shape of test data tensor :\", test_data.data.shape, \"\\n\")\n",
    "print(\"Unique lables of test data :\", test_data.targets.unique())"
   ]
  },
  {
   "cell_type": "markdown",
   "id": "a65668da-cf18-492b-a4ad-18d12fc35eba",
   "metadata": {},
   "source": [
    "## 데이터셋을 순회하고 시각화하기\n",
    "\n",
    "- `Dataset` 에 리스트처럼 직접적으로 접근(index)할 수 있다.\n",
    "\n",
    "- `training_data[index]`와 `matplotlib` 을 사용하여 학습 데이터의 일부를 시각화해보도록 하자."
   ]
  },
  {
   "cell_type": "code",
   "execution_count": 51,
   "id": "d60b355c-bf3e-4617-b8e8-be3a7aa2ad90",
   "metadata": {},
   "outputs": [
    {
     "data": {
      "image/png": "[encoded data removed]",
      "text/plain": [
       "<Figure size 576x576 with 9 Axes>"
      ]
     },
     "metadata": {
      "needs_background": "light"
     },
     "output_type": "display_data"
    }
   ],
   "source": [
    "labels_map = {0 : \"T-Shirt\", \n",
    "              1 : \"Trouser\",\n",
    "              2 : \"Pullover\",\n",
    "              3 : \"Dress\",\n",
    "              4 : \"Coat\",\n",
    "              5 : \"Sandal\",\n",
    "              6 : \"Shirt\",\n",
    "              7 : \"Sneaker\",\n",
    "              8 : \"Bag\",\n",
    "              9 : \"Ankle Boot\"}\n",
    "\n",
    "# 시각화 과정\n",
    "figure = plt.figure(figsize = (8, 8))\n",
    "\n",
    "cols, rows = 3, 3\n",
    "\n",
    "for index in range(1, cols * rows+ 1):\n",
    "    \n",
    "    # 요소가 1개인 Tensor의 경우, 'item()'을 사용하여 숫자값으로 변환할 수 있다.\n",
    "    sample_idx = torch.randint(len(training_data), size = (1,)).item()\n",
    "    \n",
    "    # index로 접근하는 경우 특징과 정답을 결과로 반환한다.\n",
    "    img, label = training_data[sample_idx]\n",
    "    \n",
    "    figure.add_subplot(rows, cols, index)\n",
    "    plt.title(labels_map[label])\n",
    "    plt.axis(\"off\")\n",
    "    plt.imshow(img.squeeze(), cmap = \"gray\")\n",
    "\n",
    "plt.show()"
   ]
  },
  {
   "cell_type": "markdown",
   "id": "8f248f86-6637-43ff-a4d6-2d87dddbf03d",
   "metadata": {},
   "source": [
    "- 위의 코드에서 왜 `squeeze()` 메서드를 사용하는 것일까?\n",
    "\n",
    "```python\n",
    "plt.imshow(img.squeeze(), cmap = \"gray\")\n",
    "```\n",
    "\n",
    "- plt.imshow() 함수의 `x` 매개변수에 값을 넣어줄 때에는 `(M, N)`, `(M, N, 3)`, `(M, N, 4)` 형태의 배열이 입력되어야 한다.\n",
    "\n",
    "- 그런데 PyTorch로 데이터를 불러오고 특정 관측치의 특징 변수들의 모양을 살펴보면 위와 같은 형태가 아님을 확인할 수 있다."
   ]
  },
  {
   "cell_type": "code",
   "execution_count": 57,
   "id": "9bb6e3d7-7fb4-45a6-a337-34990149f5a0",
   "metadata": {},
   "outputs": [
    {
     "name": "stdout",
     "output_type": "stream",
     "text": [
      "Shape of tensor : torch.Size([1, 28, 28])\n"
     ]
    }
   ],
   "source": [
    "print(\"Shape of tensor :\", training_data[0][0].shape)"
   ]
  },
  {
   "cell_type": "markdown",
   "id": "c0589fb7-6ba9-46bb-844d-578beb05ca3a",
   "metadata": {},
   "source": [
    "- 따라서 이미지를 시각화하기 위해서는 차원이 1인 부분을 제거해주어야 하는데, 제거할 때 사용하는 메서드가 `squeeze()` 메서드이다.\n",
    "\n",
    "- PyTorch의 `squeeze()` 메서드의 원리는 `(A x B x 1 x C x 1)` 형태의 텐서에서 차원이 1인 부분을 제거하여 `(A x B x C)` 형태로 만들어준다.\n",
    "\n",
    "- 또한, 원하는 dimension 위치를 따로 선택하면, **해당 위치의 1만 삭제가 가능**하다.\n",
    "\n",
    "- 단, 해당 차원 위치의 size가 1이 아니라면, 삭제가 불가능하다."
   ]
  },
  {
   "cell_type": "code",
   "execution_count": 58,
   "id": "f3e39bcf-cc13-44ed-b557-20e5e7a92328",
   "metadata": {},
   "outputs": [
    {
     "name": "stdout",
     "output_type": "stream",
     "text": [
      "Shape of squeeze tensor : torch.Size([28, 28])\n"
     ]
    }
   ],
   "source": [
    "print(\"Shape of squeeze tensor :\", training_data[0][0].squeeze().shape)"
   ]
  },
  {
   "cell_type": "markdown",
   "id": "b1e1e518-eb7a-4a94-aee7-2f5a15f54893",
   "metadata": {},
   "source": [
    "---"
   ]
  },
  {
   "cell_type": "markdown",
   "id": "de667e3a-8296-45f1-a764-62f8108af98e",
   "metadata": {},
   "source": [
    "## 파일에서 사용자 정의 데이터셋 만들기\n",
    "\n",
    "- 사용자 정의 Dataset 클래스는 반드시 3개 함수를 구현해야 한다. `__init__`, `__len__`, `__getitem__`\n",
    "\n",
    "- 아래 구현을 살펴보면 FashionMNIST 이미지들은 `img_dir` 디렉토리에 저장되고, 정답은 `annotations_file` csv 파일에 별도로 저장된다."
   ]
  },
  {
   "cell_type": "code",
   "execution_count": 59,
   "id": "165567ba-cf9c-449b-b57f-4aed119b85b0",
   "metadata": {},
   "outputs": [],
   "source": [
    "# 추가 라이브러리 불러오기\n",
    "import os\n",
    "\n",
    "import pandas as pd\n",
    "\n",
    "from torchvision.io import read_image"
   ]
  },
  {
   "cell_type": "code",
   "execution_count": 60,
   "id": "bb639c1e-a371-4a37-9d85-ec936af7e580",
   "metadata": {},
   "outputs": [],
   "source": [
    "class CustomImageDataset(Dataset):\n",
    "    \n",
    "    def __init__(self, annotation_file, imgdir, transform = None, target_transform = None):\n",
    "        \n",
    "        self.img_labels = pd.read_csv(annotations_file, names = [\"file_name\", \"label\"])\n",
    "        self.img_dir = img_dir\n",
    "        self.transform = transform\n",
    "        self.target_transform = target_transform\n",
    "        \n",
    "    def __len__(self):\n",
    "        return len(self.img_labels)\n",
    "    \n",
    "    def __getitem__(self, idx):\n",
    "        \n",
    "        img_path = os.path.join(self.img_dir, self.img_labels.iloc[idx, 0])\n",
    "        image = read_image(img_path)\n",
    "        label = self.img_labels.iloc[idex, 1]\n",
    "        \n",
    "        if self.transform:\n",
    "            image = self.transform(image)\n",
    "        \n",
    "        if self.target_transform:\n",
    "            lagbel = self.target_transform(label)\n",
    "            \n",
    "        return image, label"
   ]
  },
  {
   "cell_type": "markdown",
   "id": "3494a299-c46d-4768-8cb8-1a3fd094f79c",
   "metadata": {},
   "source": [
    "### \\_\\_init\\_\\_\n",
    "\n",
    "\\_\\_init\\_\\_ 함수는 Dataset 객체가 생성(instantiate)될 때 한 번만 실행된다.\n",
    "\n",
    "여기서는 이미지와 주석파일(annotation_file)이 포함된 디렉토리와 두가지 변형(transform)을 초기화한다.\n",
    "\n",
    "labels.csv 파일은 다음과 같다.\n",
    "\n",
    "```\n",
    "tshirt1.jpg, 0\n",
    "tshirt2.jpg, 0\n",
    "......\n",
    "ankleboot999.jpg, 9\n",
    "```"
   ]
  },
  {
   "cell_type": "markdown",
   "id": "34f9996e-e1c3-47fc-b208-967dd9b44fcb",
   "metadata": {},
   "source": [
    "### \\_\\_len\\_\\_\n",
    "\n",
    "\\_\\_len\\_\\_ 함수는 데이터셋의 샘플 개수를 반환한다."
   ]
  },
  {
   "cell_type": "markdown",
   "id": "fa740b74-4558-47eb-a9ac-6dcd5205b400",
   "metadata": {
    "tags": []
   },
   "source": [
    "### \\_\\_getitem\\_\\_\n",
    "\n",
    "\\_\\_getitem__ 함수는 주어진 인덱스 `idx` 에 해당하는 샘플을 데이터셋에서 불러오고 반환한다.\n",
    "\n",
    "인덱스를 기반으로, 디스크에서 이미지의 위치를 식별하고, `read_image` 를 사용하여 이미지를 텐서로 변환하고, `self.img_labels`의 csv 데이터로부터 해당하는 정답(label)을 가져오고, (해당하는 경우) 변형(transform) 함수들을 호출한 뒤, 텐서 이미지와 라벨을 Python 사전형으로 변환합니다.\n",
    "\n",
    "```python\n",
    "def __getitem__(self, idx):\n",
    "    \n",
    "    img_path = os.path.join(self.img_dir, self.img_labels.iloc[idx, 0])\n",
    "    image = read_image(img_path)\n",
    "    label = self.img_labels.iloc[idx, 1]\n",
    "    \n",
    "    if self.transform:\n",
    "        image = self.transform(image)\n",
    "        \n",
    "    if self.target_transform:\n",
    "        label = self.target_transform(label)\n",
    "        \n",
    "    sample = {\"image\" : image, \"label\" : label}\n",
    "    \n",
    "    return sample\n",
    "```"
   ]
  },
  {
   "cell_type": "markdown",
   "id": "792f0072-ca21-40be-817b-6bc0a4492c0d",
   "metadata": {},
   "source": [
    "---"
   ]
  },
  {
   "cell_type": "markdown",
   "id": "e566c086-7988-497a-8cca-c452a2f0fef1",
   "metadata": {},
   "source": [
    "## DataLoader로 학습용 데이터 준비하기\n",
    "\n",
    "- `Dataset` 은 데이터셋의 특징(feature)을 가져오고 하나의 샘플에 정답(label)을 지정하는 일을 한 번에 한다.\n",
    "\n",
    "- 모델을 학습할 때, 일반적으로 샘플들을 \"미니배치(minibatch)\"로 전달하고, 매 에폭(epoch)마다 데이터를 다시 섞어서 과적합(overfit)을 막고, Python의 `multiprocessing`을 사용하여 데이터 검색 속도를 높이려고 한다.\n",
    "\n",
    "- `DataLoader` 는 간단한 API로 이러한 복잡한 과정들을 추상화한 순회 가능한 객체이다."
   ]
  },
  {
   "cell_type": "code",
   "execution_count": 61,
   "id": "e19e9ace-5695-4c65-8cbd-e8893c1c81d5",
   "metadata": {},
   "outputs": [],
   "source": [
    "# 추가 라이브러리 불러오기\n",
    "from torch.utils.data import DataLoader"
   ]
  },
  {
   "cell_type": "code",
   "execution_count": 68,
   "id": "b0513155-e3b8-4772-9dc9-8cf3865275bd",
   "metadata": {},
   "outputs": [],
   "source": [
    "train_dataloader = DataLoader(training_data, batch_size = 64, shuffle = True)\n",
    "test_dataloader = DataLoader(test_data, batch_size = 64, shuffle = True)"
   ]
  },
  {
   "cell_type": "markdown",
   "id": "dc14cfaa-28df-48e4-b793-a2c5ddb8a059",
   "metadata": {},
   "source": [
    "## DataLoader를 통해 순회하기(iterate)\n",
    "\n",
    "- `DataLoader`에 데이터셋을 불러온 뒤에는 필요에 따라 데이터셋을 순회할 수 있다.\n",
    "\n",
    "- 아래의 각 순회는 `train_features` 와 `train_labels`의 묶음을 반환한다.\n",
    "\n",
    "- `shuffle = True` 로 지정했으므로, 모든 배치를 순회한 뒤 데이터가 섞인다."
   ]
  },
  {
   "cell_type": "code",
   "execution_count": 70,
   "id": "a79401a5-3547-4f27-b983-9d42c04fef9a",
   "metadata": {},
   "outputs": [
    {
     "name": "stdout",
     "output_type": "stream",
     "text": [
      "Feature batch shape : torch.Size([64, 1, 28, 28]) \n",
      "\n",
      "Labels batch shape : torch.Size([64]) \n",
      "\n"
     ]
    },
    {
     "data": {
      "image/png": "[encoded data removed]",
      "text/plain": [
       "<Figure size 432x288 with 1 Axes>"
      ]
     },
     "metadata": {
      "needs_background": "light"
     },
     "output_type": "display_data"
    }
   ],
   "source": [
    "# 이미지와 정답(label)을 표시한다.\n",
    "train_features, train_labels = next(iter(train_dataloader))\n",
    "\n",
    "print(f\"Feature batch shape : {train_features.size()} \\n\")\n",
    "print(f\"Labels batch shape : {train_labels.size()} \\n\")\n",
    "\n",
    "img = train_features[0].squeeze()\n",
    "label = train_labels[0]\n",
    "\n",
    "plt.imshow(img, cmap = \"gray\")\n",
    "plt.axis(\"off\")\n",
    "plt.show()"
   ]
  }
 ],
 "metadata": {
  "kernelspec": {
   "display_name": "Python 3 (ipykernel)",
   "language": "python",
   "name": "python3"
  },
  "language_info": {
   "codemirror_mode": {
    "name": "ipython",
    "version": 3
   },
   "file_extension": ".py",
   "mimetype": "text/x-python",
   "name": "python",
   "nbconvert_exporter": "python",
   "pygments_lexer": "ipython3",
   "version": "3.8.8"
  }
 },
 "nbformat": 4,
 "nbformat_minor": 5
}
