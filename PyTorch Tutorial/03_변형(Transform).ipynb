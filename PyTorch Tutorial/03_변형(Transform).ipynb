{
 "cells": [
  {
   "cell_type": "markdown",
   "id": "a715940f-1b34-4d14-9e82-7b62664c9622",
   "metadata": {},
   "source": [
    "# [변형(TRANSFORM)](https://tutorials.pytorch.kr/beginner/basics/transforms_tutorial.html)\n",
    "\n",
    "- 데이터가 항상 머신러닝 알고리즘 학습에 필요한 최종 처리가 된 형태로 제공되지 않으며, **변형(transform)** 을 해서 데이터를 조작하고 학습에 적합하게 만들어야 한다.\n",
    "\n",
    "- 모든 TorchVision 데이터셋들은 변형 로직을 갖는, 호출 가능한 객체(callable)를 받는 매개변수 두개 (특징을 변경하기 위한 `transform`과 정답을 변경하기 위한 `target_transform`)를 갖는다.\n",
    "\n",
    "- `torchvision.transforms` 모듈을 주로 사용하는 몇가지 변형(transform)을 제공한다.\n",
    "\n",
    "- FashionMNIST 특징(feature)은 PIL Image 형식이며, 정답(label)은 정수(integer)이다.\n",
    "\n",
    "- 학습을 하려면 정규화(normalize)된 텐서 형태의 특징(feature)과 원-핫(one-hot)으로 부호화(encode)된 텐서 형태의 정답(label)이 필요하다.\n",
    "\n",
    "- 이러한 변형을 하기 위해 `ToTensor` 와 `Lambda` 를 사용한다."
   ]
  },
  {
   "cell_type": "code",
   "execution_count": 1,
   "id": "ef99143f-33fc-4f37-bfcf-450b47d604f3",
   "metadata": {},
   "outputs": [],
   "source": [
    "# 라이브러리 불러오기\n",
    "import torch\n",
    "from torchvision import datasets\n",
    "from torchvision.transforms import ToTensor, Lambda"
   ]
  },
  {
   "cell_type": "code",
   "execution_count": 2,
   "id": "d9af62e6-51ca-41a0-8b2b-1ffcc0f3f3c3",
   "metadata": {},
   "outputs": [],
   "source": [
    "data = datasets.FashionMNIST(\n",
    "    root = \"data\",\n",
    "    train = True,\n",
    "    download = False,\n",
    "    transform = ToTensor(),\n",
    "    target_transform = Lambda(lambda y: torch.zeros(10, dtype = torch.float).scatter_(0, torch.tensor(y), value = 1)))"
   ]
  },
  {
   "cell_type": "markdown",
   "id": "5a4d0b29-ff06-44f3-9c29-e551619f7673",
   "metadata": {},
   "source": [
    "## ToTensor()\n",
    "\n",
    "[ToTensor](https://pytorch.org/vision/stable/transforms.html#torchvision.transforms.ToTensor)는 PIL Image나 Numpy `ndarray`를 `FloatTensor` 로 변환하고, 이미지 픽셀의 크리(intensity) 값을 [0., 1.] 범위로 비례하여 조정(scale)한다."
   ]
  },
  {
   "cell_type": "markdown",
   "id": "e184b298-7e9c-4b5f-a6e0-4271a75bd571",
   "metadata": {},
   "source": [
    "## Lambda 변형(Transform)\n",
    "\n",
    "Lambda 변형은 사용자 정의 람다(lambda) 함수를 적용한다.\n",
    "\n",
    "현재 코드에서는 정수를 원-핫으로 부호화된 텐서로 바꾸는 함수를 정의한다.\n",
    "\n",
    "이 함수는 먼저 크기 10짜리 Zero tensor를 만들고, [scatter_](https://pytorch.org/docs/stable/generated/torch.Tensor.scatter_.html)를 호출하여 주어진 정답 `y`에 해당하는 인덱스에 `value = 1`을 할당한다."
   ]
  },
  {
   "cell_type": "markdown",
   "id": "9ce3f959-ed37-423f-b7e8-7a4cd549efe0",
   "metadata": {},
   "source": [
    "---"
   ]
  },
  {
   "cell_type": "code",
   "execution_count": 15,
   "id": "d8b96296-a999-49dc-80a2-717d294afedc",
   "metadata": {},
   "outputs": [],
   "source": [
    "import pandas as pd"
   ]
  },
  {
   "cell_type": "markdown",
   "id": "5cfc2e68-f888-4f1b-924a-e1c8bbfed5a1",
   "metadata": {},
   "source": [
    "- 위에서 불러온 FashionMNIST 데이터를 좀 더 자세히 살펴보도록 하자.\n",
    "\n",
    "- 불러온 데이터의 특징이 실제로 [0, 1] 사이의 값을 가지는지 확인해보고, 정답의 값들이 어떻게 변했는지 확인해보자."
   ]
  },
  {
   "cell_type": "code",
   "execution_count": 27,
   "id": "7484d459-882c-491e-9906-b1764709d7fd",
   "metadata": {},
   "outputs": [
    {
     "name": "stdout",
     "output_type": "stream",
     "text": [
      "Shape of tensor : torch.Size([60000, 28, 28]) \n",
      "\n"
     ]
    },
    {
     "data": {
      "text/html": [
       "<div>\n",
       "<style scoped>\n",
       "    .dataframe tbody tr th:only-of-type {\n",
       "        vertical-align: middle;\n",
       "    }\n",
       "\n",
       "    .dataframe tbody tr th {\n",
       "        vertical-align: top;\n",
       "    }\n",
       "\n",
       "    .dataframe thead th {\n",
       "        text-align: right;\n",
       "    }\n",
       "</style>\n",
       "<table border=\"1\" class=\"dataframe\">\n",
       "  <thead>\n",
       "    <tr style=\"text-align: right;\">\n",
       "      <th></th>\n",
       "      <th>Feature</th>\n",
       "    </tr>\n",
       "  </thead>\n",
       "  <tbody>\n",
       "    <tr>\n",
       "      <th>count</th>\n",
       "      <td>784.000000</td>\n",
       "    </tr>\n",
       "    <tr>\n",
       "      <th>mean</th>\n",
       "      <td>0.381388</td>\n",
       "    </tr>\n",
       "    <tr>\n",
       "      <th>std</th>\n",
       "      <td>0.399440</td>\n",
       "    </tr>\n",
       "    <tr>\n",
       "      <th>min</th>\n",
       "      <td>0.000000</td>\n",
       "    </tr>\n",
       "    <tr>\n",
       "      <th>25%</th>\n",
       "      <td>0.000000</td>\n",
       "    </tr>\n",
       "    <tr>\n",
       "      <th>50%</th>\n",
       "      <td>0.172549</td>\n",
       "    </tr>\n",
       "    <tr>\n",
       "      <th>75%</th>\n",
       "      <td>0.823529</td>\n",
       "    </tr>\n",
       "    <tr>\n",
       "      <th>max</th>\n",
       "      <td>1.000000</td>\n",
       "    </tr>\n",
       "  </tbody>\n",
       "</table>\n",
       "</div>"
      ],
      "text/plain": [
       "          Feature\n",
       "count  784.000000\n",
       "mean     0.381388\n",
       "std      0.399440\n",
       "min      0.000000\n",
       "25%      0.000000\n",
       "50%      0.172549\n",
       "75%      0.823529\n",
       "max      1.000000"
      ]
     },
     "metadata": {},
     "output_type": "display_data"
    }
   ],
   "source": [
    "print(\"Shape of tensor :\", data.data.size(), \"\\n\")\n",
    "\n",
    "display(pd.DataFrame(data[0][0].flatten(), columns = [\"Feature\"]).describe())"
   ]
  },
  {
   "cell_type": "markdown",
   "id": "8fffccbf-e1fc-46fa-aedf-dfeceeebaed6",
   "metadata": {},
   "source": [
    "- 불러온 데이터의 모양은 일치함을 확인할 수 있으며, 요약통계량을 살펴보았을 때 특징 값들이 모두 [0, 1] 사이에 있다."
   ]
  },
  {
   "cell_type": "code",
   "execution_count": 34,
   "id": "d41e182a-e0dc-4f82-98ad-4be3d27c8815",
   "metadata": {},
   "outputs": [
    {
     "name": "stdout",
     "output_type": "stream",
     "text": [
      "Unique labels of data : tensor([0, 1, 2, 3, 4, 5, 6, 7, 8, 9]) \n",
      "\n",
      "Label of the first data : tensor([0., 0., 0., 0., 0., 0., 0., 0., 0., 1.])\n"
     ]
    }
   ],
   "source": [
    "print(\"Unique labels of data :\", data.targets.unique(), \"\\n\")\n",
    "print(\"Label of the first data :\", data[0][1])"
   ]
  },
  {
   "cell_type": "markdown",
   "id": "5eb62f4f-4e6a-4bc0-9d80-26bf053307bb",
   "metadata": {},
   "source": [
    "- FashionMNIST 데이터의 정답은 0부터 9까지 이루어져 있음을 확인할 수 있다.\n",
    "\n",
    "- 첫 번째 데이터의 정답을 살펴보면 원핫인코딩이 수행되어 있음을 확인할 수 있다.\n",
    "\n",
    "- `target_transform` 매개변수에 작성된 함수를 하나씩 살펴보도록 하자.\n",
    "\n",
    "```python\n",
    "target_transform = Lambda(lambda y: torch.zeros(10, dtype = torch.float).scatter_(0, torch.tensor(y), value = 1))\n",
    "```"
   ]
  }
 ],
 "metadata": {
  "kernelspec": {
   "display_name": "Python 3 (ipykernel)",
   "language": "python",
   "name": "python3"
  },
  "language_info": {
   "codemirror_mode": {
    "name": "ipython",
    "version": 3
   },
   "file_extension": ".py",
   "mimetype": "text/x-python",
   "name": "python",
   "nbconvert_exporter": "python",
   "pygments_lexer": "ipython3",
   "version": "3.8.8"
  }
 },
 "nbformat": 4,
 "nbformat_minor": 5
}
