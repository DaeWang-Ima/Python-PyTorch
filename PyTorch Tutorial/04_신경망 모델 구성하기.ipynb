{
 "cells": [
  {
   "cell_type": "markdown",
   "id": "e5cf7e03-6d8f-4a5b-ad26-d18705afa2c9",
   "metadata": {},
   "source": [
    "# [신경망 모델 구성하기](https://tutorials.pytorch.kr/beginner/basics/buildmodel_tutorial.html)"
   ]
  },
  {
   "cell_type": "markdown",
   "id": "4940ab91-7518-4fd0-bca3-1cf4a134e692",
   "metadata": {},
   "source": [
    "신경망은 데이터에 대한 연산을 수행하는 계층(layer)/모듈(module)로 구성되어 있다.\n",
    "\n",
    "<a href=\"https://pytorch.org/docs/stable/nn.html\">`torch.nn`</a> 네임스페이스는 신경망을 구성하는데 필요한 모든 구성 요소를 제공한다.\n",
    "\n",
    "PyTorch의 모든 모듈은 <a href=\"https://pytorch.org/docs/stable/generated/torch.nn.Module.html\">`nn.Module`</a>의 하위 클래스(subclass) 이다.\n",
    "\n",
    "신경만은 다른 모듈(계층: layer)로 구성된 모듈이다. 이러한 중첩된 구조는 복잡한 아키텍처를 쉽게 구축하고 관리할 수 있다.\n",
    "\n",
    "FashionMNIST 데이터셋의 이미지들을 분류하는 신경망을 구성해보도록 하자."
   ]
  },
  {
   "cell_type": "code",
   "execution_count": 2,
   "id": "d8160dfb-72f5-4b90-8a18-8ed372373493",
   "metadata": {},
   "outputs": [],
   "source": [
    "# 라이브러리 불러오기\n",
    "import os\n",
    "\n",
    "import torch\n",
    "from torch import nn\n",
    "from torch.utils.data import DataLoader\n",
    "from torchvision import datasets, transforms"
   ]
  },
  {
   "cell_type": "markdown",
   "id": "46e58a8a-a07a-47ce-9f44-786e309b6230",
   "metadata": {},
   "source": [
    "## 학습을 위한 장치 얻기"
   ]
  },
  {
   "cell_type": "markdown",
   "id": "0e8802b7-c782-4343-b83c-ce75a4629fae",
   "metadata": {},
   "source": [
    "가능한 경우 GPU와 같은 하드웨어 가속기에서 모델을 학습하는 것이 좋다.\n",
    "\n",
    "`torch.cuda`를 사용할 수 있는지 확인하고 그렇지 않으면 CPU를 계속 사용하도록 하자."
   ]
  },
  {
   "cell_type": "code",
   "execution_count": 3,
   "id": "fedd4c2e-38f7-4117-9020-b414e1580692",
   "metadata": {},
   "outputs": [
    {
     "name": "stdout",
     "output_type": "stream",
     "text": [
      "Using cpu device\n"
     ]
    }
   ],
   "source": [
    "device = \"cuda\" if torch.cuda.is_available() else \"cpu\"\n",
    "\n",
    "print(f\"Using {device} device\")"
   ]
  },
  {
   "cell_type": "markdown",
   "id": "a8c2e901-d4ff-479d-98a8-299c6cc131f2",
   "metadata": {},
   "source": [
    "## 클래스 정의하기"
   ]
  },
  {
   "cell_type": "markdown",
   "id": "593a2a3b-1ae8-49c2-80e7-72b29718264e",
   "metadata": {},
   "source": [
    "신경망 모델을 `nn.Module`의 하위클래스로 정의하고, `__init__` 에서 신경망 계층들을 초기화한다.\n",
    "\n",
    "`nn.Module`을 상속받은 모든 클래스는 `forward` 메소드에 입력 데이터에 대한 연산들을 구현한다."
   ]
  },
  {
   "cell_type": "code",
   "execution_count": 4,
   "id": "b1e8140e-cc05-4706-997a-06f2f70e6968",
   "metadata": {},
   "outputs": [],
   "source": [
    "class NeuralNetwork(nn.Module):\n",
    "    \n",
    "    def __init__(self):\n",
    "        super(NeuralNetwork, self).__init__()\n",
    "        \n",
    "        self.flatten = nn.Flatten()\n",
    "        self.linear_relu_stack = nn.Sequential(\n",
    "            nn.Linear(in_features = 28 * 28, out_features = 512),\n",
    "            nn.ReLU(),\n",
    "            nn.Linear(in_features = 512, out_features = 512),\n",
    "            nn.ReLU(),\n",
    "            nn.Linear(512, 10))\n",
    "        \n",
    "    def forward(self, x):\n",
    "        x = self.flatten(x)\n",
    "        logits = self.linear_relu_stack(x)\n",
    "        \n",
    "        return logits"
   ]
  },
  {
   "cell_type": "markdown",
   "id": "b18e9514-2f0b-482a-9111-916a43e7bf1e",
   "metadata": {},
   "source": [
    "`NeuralNetwork`의 인스턴스(instance)를 생성하고 이를 `device`로 이동한 뒤, 구조(structure)를 출력한다."
   ]
  },
  {
   "cell_type": "markdown",
   "id": "19271991-566f-4247-a22c-b3dfc5454617",
   "metadata": {},
   "source": [
    "- 위의 `NeuralNetwork` 클래스는 `nn.Module` 클래스를 상속받고 있음을 확인할 수 있다.\n",
    "\n",
    "```python\n",
    "class NeuralNetwork(nn.Module):\n",
    "    \n",
    "    def __init__(self):\n",
    "        super(NeuralNetwork, self).__init__()\n",
    "```\n",
    "\n",
    "- `super` 명령어는 상속관계에서 상속의 대상인 부모 클래스를 호출하는 함수이다.\n",
    "\n",
    "- `super()` 의 인자로는 두 개가 전달되며, **하위클래스의 이름**과 **하위클래스의 객체**가 필요하다."
   ]
  },
  {
   "cell_type": "code",
   "execution_count": 5,
   "id": "6dd9b384-0c9d-4fee-a546-198520458dc2",
   "metadata": {},
   "outputs": [
    {
     "name": "stdout",
     "output_type": "stream",
     "text": [
      "NeuralNetwork(\n",
      "  (flatten): Flatten(start_dim=1, end_dim=-1)\n",
      "  (linear_relu_stack): Sequential(\n",
      "    (0): Linear(in_features=784, out_features=512, bias=True)\n",
      "    (1): ReLU()\n",
      "    (2): Linear(in_features=512, out_features=512, bias=True)\n",
      "    (3): ReLU()\n",
      "    (4): Linear(in_features=512, out_features=10, bias=True)\n",
      "  )\n",
      ")\n"
     ]
    }
   ],
   "source": [
    "model = NeuralNetwork().to(device)\n",
    "print(model)"
   ]
  },
  {
   "cell_type": "markdown",
   "id": "5494bf0d-5fae-41d6-a07e-0b04721ddce7",
   "metadata": {},
   "source": [
    "모델을 사용하기 위해 입력 데이터를 전달한다. 이는 일부 백그라운드 연산들과 함께 모델의 `forward`를 실행한다.\n",
    "\n",
    "이 때, `model.forward()` 를 직접 호출하지 말 것!\n",
    "\n",
    "모델에 입력을 호출하면 각 분류(class)에 대한 원시(raw) 예측값이 있는 10-차원 텐서가 반환된다.\n",
    "\n",
    "원시 예측값을 `nn.Softmax` 모듈의 인스턴스에 통과시켜 예측 확률을 얻는다."
   ]
  },
  {
   "cell_type": "code",
   "execution_count": 14,
   "id": "0eaf21ef-59c7-41a3-bf7d-8ed1f77621f3",
   "metadata": {},
   "outputs": [
    {
     "name": "stdout",
     "output_type": "stream",
     "text": [
      "Rank of tensor : 3 \n",
      "\n",
      "Shape of tensor : torch.Size([1, 28, 28])\n"
     ]
    }
   ],
   "source": [
    "# 하나의 임의 입력 데이터 생성\n",
    "X = torch.rand(1, 28, 28, device = device)\n",
    "\n",
    "print(\"Rank of tensor :\", X.dim(), \"\\n\")\n",
    "print(\"Shape of tensor :\", X.shape)"
   ]
  },
  {
   "cell_type": "code",
   "execution_count": 26,
   "id": "176f81ff-0a7e-4d08-8232-927d5d5c1b22",
   "metadata": {},
   "outputs": [
    {
     "name": "stdout",
     "output_type": "stream",
     "text": [
      "Shape of logits tensor : torch.Size([1, 10]) \n",
      "\n",
      "tensor([[ 0.0014, -0.1477,  0.0006,  0.0229, -0.1643,  0.0897,  0.0015,  0.0089,\n",
      "         -0.0832, -0.0145]], grad_fn=<AddmmBackward0>)\n"
     ]
    }
   ],
   "source": [
    "# 모델에 입력을 호출하면 각 분류에 대한 예측값을 반환한다.\n",
    "logits = model(X)\n",
    "\n",
    "print(\"Shape of logits tensor :\", logits.size(), \"\\n\")\n",
    "print(logits)"
   ]
  },
  {
   "cell_type": "code",
   "execution_count": 29,
   "id": "a2ef9120-81c1-42c3-a737-171727bfc737",
   "metadata": {},
   "outputs": [
    {
     "name": "stdout",
     "output_type": "stream",
     "text": [
      "Shape of softmax tensor : torch.Size([1, 10]) \n",
      "\n",
      "tensor([[0.1027, 0.0885, 0.1027, 0.1050, 0.0871, 0.1122, 0.1028, 0.1035, 0.0944,\n",
      "         0.1011]], grad_fn=<SoftmaxBackward0>)\n"
     ]
    }
   ],
   "source": [
    "# nn.Softmax 모듈을 사용하여 예측 확률 반환\n",
    "pred_probab = nn.Softmax(dim = 1)(logits)\n",
    "\n",
    "print(\"Shape of softmax tensor :\", pred_probab.size(), \"\\n\")\n",
    "print(pred_probab)"
   ]
  },
  {
   "cell_type": "code",
   "execution_count": 35,
   "id": "a8441a6e-d524-47fc-acfe-c49f7d6c06b9",
   "metadata": {},
   "outputs": [
    {
     "name": "stdout",
     "output_type": "stream",
     "text": [
      "Predicted class : tensor([5])\n"
     ]
    }
   ],
   "source": [
    "# 예측 확률 중 가장 큰 값을 추출\n",
    "y_pred = pred_probab.argmax(dim = 1)\n",
    "print(f\"Predicted class : {y_pred}\")"
   ]
  },
  {
   "cell_type": "markdown",
   "id": "60aed3d3-8f53-4a31-94c3-20ffe1ec009f",
   "metadata": {},
   "source": [
    "---"
   ]
  },
  {
   "cell_type": "markdown",
   "id": "a51eacb1-0b9b-4859-bfd9-840a48aa5527",
   "metadata": {},
   "source": [
    "## 모델 계층(Layer)"
   ]
  },
  {
   "cell_type": "markdown",
   "id": "9168b43a-ad9c-456f-bf22-e9a64ebfd4b4",
   "metadata": {},
   "source": [
    "FashionMNIST 모델의 계층들을 살펴보도록 하자.\n",
    "\n",
    "이를 설명하기 위해, 28x28 크기의 이미지 3개로 구성된 미니배치를 가져와, 신경망을 통과할 때 어떤 일이 발생하는지 알아보자."
   ]
  },
  {
   "cell_type": "code",
   "execution_count": 37,
   "id": "ebbd3476-3111-4b85-8d3b-574afd77f875",
   "metadata": {},
   "outputs": [
    {
     "name": "stdout",
     "output_type": "stream",
     "text": [
      "Shape of tensor : torch.Size([3, 28, 28])\n"
     ]
    }
   ],
   "source": [
    "input_image = torch.rand(3, 28, 28)\n",
    "print(\"Shape of tensor :\", input_image.size())"
   ]
  },
  {
   "cell_type": "markdown",
   "id": "b019c8eb-61c4-45e3-a7ae-a39fdc3693f0",
   "metadata": {},
   "source": [
    "### nn.Flatten\n",
    "\n",
    "신경망 모델에 이미지 데이터를 입력해주기 위해서는 2D 이미지를 평탄화 해주는 작업을 수행해줘야 한다.\n",
    "\n",
    "평탄화 작업을 수행해주는 모듈이 `nn.Flatten` 이다.\n",
    "\n",
    "<a href=\"https://pytorch.org/docs/stable/generated/torch.nn.Flatten.html\">`nn.Flatten`</a> 계층을 초기화하여 각 28x28의 2D 이미지를 784 픽셀 값을 갖는 연속된 배열로 변환한다."
   ]
  },
  {
   "cell_type": "code",
   "execution_count": 38,
   "id": "ce956579-43bb-4078-a0df-47148639e387",
   "metadata": {},
   "outputs": [
    {
     "name": "stdout",
     "output_type": "stream",
     "text": [
      "Shape of flatten image tensor: torch.Size([3, 784])\n"
     ]
    }
   ],
   "source": [
    "# nn.Flatten 객체 생성\n",
    "flatten = nn.Flatten()\n",
    "\n",
    "# 이미지 평탄화 작업 수행\n",
    "flat_image = flatten(input_image)\n",
    "print(\"Shape of flatten image tensor:\", flat_image.size())"
   ]
  },
  {
   "cell_type": "markdown",
   "id": "7d555166-ceac-424d-b3e4-f078861f7a8f",
   "metadata": {},
   "source": [
    "### nn.Linear\n",
    "\n",
    "<a href=\"https://pytorch.org/docs/stable/generated/torch.nn.Linear.html\">`nn.Linear`</a> 계층은 저장된 가중치(weight)와 편향(bias)을 사용하여 입력에 선형 변환(linear transformation)을 적용하는 모듈이다."
   ]
  },
  {
   "cell_type": "code",
   "execution_count": 39,
   "id": "acbd1033-431c-4934-8285-313d11f97cd8",
   "metadata": {},
   "outputs": [
    {
     "name": "stdout",
     "output_type": "stream",
     "text": [
      "Shape of linear image tensor : torch.Size([3, 20])\n"
     ]
    }
   ],
   "source": [
    "# nn.Linear 객체 생성\n",
    "layer1 = nn.Linear(in_features = 28 * 28, out_features = 20)\n",
    "\n",
    "# 생성한 객체에 데이터 입력\n",
    "hidden1 = layer1(flat_image)\n",
    "print(\"Shape of linear image tensor :\", hidden1.size())"
   ]
  },
  {
   "cell_type": "markdown",
   "id": "1284a6f9-50f0-4c8f-86bf-d360fa9f3469",
   "metadata": {},
   "source": [
    "### nn.ReLU\n",
    "\n",
    "비선형 활성화(activation)는 모델의 입력과 출력 사이에 복잡한 관계(mapping)을 만든다.\n",
    "\n",
    "비선형 활성화는 선형 변환 후에 적용되어 비선형성(nonlinearity)을 도입하고, 신경망이 다양한 형상을 학습할 수 있도록 도와준다.\n",
    "\n",
    "이 모델에서는 <a href=https://pytorch.org/docs/stable/generated/torch.nn.ReLU.html>`nn.ReLU`</a>를 선형 계층들 사이에 사용하지만, 모델을 만들 때는 비선형성을 가진 다른 활성화를 도입할 수도 있다."
   ]
  },
  {
   "cell_type": "code",
   "execution_count": 46,
   "id": "b6a3cbcd-af14-4197-8f95-8f09c2626e0f",
   "metadata": {},
   "outputs": [
    {
     "name": "stdout",
     "output_type": "stream",
     "text": [
      "Before ReLU \n",
      "\n",
      " tensor([[ 0.2497, -0.6188, -0.6274,  0.0762,  0.1060,  0.4084, -0.5819, -0.0975,\n",
      "         -0.1819, -0.2293, -0.2323, -0.0100, -0.1505, -0.0419, -0.0428,  0.1659,\n",
      "         -0.4777,  0.1197,  0.4844, -0.3187],\n",
      "        [-0.0048, -0.5053, -0.5270,  0.0321,  0.2664,  0.2884, -0.2082, -0.1869,\n",
      "         -0.2774, -0.3041, -0.1134,  0.1100, -0.2214, -0.2591,  0.0032,  0.1003,\n",
      "         -0.2098, -0.0208,  0.2437, -0.1151],\n",
      "        [-0.1704, -0.4867, -0.4355,  0.0846, -0.1359,  0.4445, -0.0812, -0.2342,\n",
      "         -0.2314, -0.2918, -0.3480, -0.2383,  0.0238,  0.1212,  0.3451, -0.0300,\n",
      "         -0.2576, -0.0380,  0.3660, -0.0582]], grad_fn=<AddmmBackward0>) \n",
      "\n",
      "\n",
      "After ReLU \n",
      "\n",
      " tensor([[0.2497, 0.0000, 0.0000, 0.0762, 0.1060, 0.4084, 0.0000, 0.0000, 0.0000,\n",
      "         0.0000, 0.0000, 0.0000, 0.0000, 0.0000, 0.0000, 0.1659, 0.0000, 0.1197,\n",
      "         0.4844, 0.0000],\n",
      "        [0.0000, 0.0000, 0.0000, 0.0321, 0.2664, 0.2884, 0.0000, 0.0000, 0.0000,\n",
      "         0.0000, 0.0000, 0.1100, 0.0000, 0.0000, 0.0032, 0.1003, 0.0000, 0.0000,\n",
      "         0.2437, 0.0000],\n",
      "        [0.0000, 0.0000, 0.0000, 0.0846, 0.0000, 0.4445, 0.0000, 0.0000, 0.0000,\n",
      "         0.0000, 0.0000, 0.0000, 0.0238, 0.1212, 0.3451, 0.0000, 0.0000, 0.0000,\n",
      "         0.3660, 0.0000]], grad_fn=<ReluBackward0>)\n"
     ]
    }
   ],
   "source": [
    "print(f\"Before ReLU \\n\\n {hidden1} \\n\\n\")\n",
    "\n",
    "hidden1 = nn.ReLU()(hidden1)\n",
    "print(f\"After ReLU \\n\\n {hidden1}\")"
   ]
  },
  {
   "cell_type": "markdown",
   "id": "9056b31f-7f74-4247-b076-c2cbf231f292",
   "metadata": {},
   "source": [
    "### nn.Sequential\n",
    "\n",
    "<a href=\"https://pytorch.org/docs/stable/generated/torch.nn.Sequential.html\">`nn.Sequential`</a>은 순서를 갖는 모듈의 컨테이너이다. 데이터는 정의된 것과 같은 순서로 모든 모듈들을 통해 전달된다.\n",
    "\n",
    "순차 컨테이너(sequential container)를 사용하면 아래의 `seq_modules`와 같은 신경망을 빠르게 만들 수 있다."
   ]
  },
  {
   "cell_type": "code",
   "execution_count": 49,
   "id": "073d4152-8122-40f5-a48e-be88e846d95c",
   "metadata": {},
   "outputs": [
    {
     "name": "stdout",
     "output_type": "stream",
     "text": [
      "Shape of logits tensor : torch.Size([3, 10])\n"
     ]
    }
   ],
   "source": [
    "# 신경망 모형\n",
    "seq_modules = nn.Sequential(\n",
    "    nn.Flatten(),\n",
    "    nn.Linear(in_features = 28 * 28, out_features = 20),\n",
    "    nn.ReLU(),\n",
    "    nn.Linear(in_features = 20, out_features = 10))\n",
    "\n",
    "input_image = torch.rand(3, 28, 28)\n",
    "logits = seq_modules(input_image)\n",
    "\n",
    "print(\"Shape of logits tensor :\", logits.size())"
   ]
  },
  {
   "cell_type": "markdown",
   "id": "c1cc280d-0d6d-4cf8-a857-6f82af8c03b1",
   "metadata": {},
   "source": [
    "### nn.Softmax\n",
    "\n",
    "신경망의 마지막 선형 계층은 <a href=\"https://pytorch.org/docs/stable/generated/torch.nn.Softmax.html\">`nn.Softmax`</a> 모듈에 전달될 ([-∞, ∞] 범위의 원시 값(raw value)인) logits를 반환한다.\n",
    "\n",
    "logits는 모델의 각 분류(class)에 대한 예측 확률을 나타내도록 [0, 1] 범위로 비례하여 조정(scale) 된다."
   ]
  },
  {
   "cell_type": "code",
   "execution_count": 50,
   "id": "16bacc09-0b9c-4120-93b9-4311db166bb1",
   "metadata": {},
   "outputs": [
    {
     "name": "stdout",
     "output_type": "stream",
     "text": [
      "tensor([[0.1217, 0.1011, 0.1035, 0.1102, 0.1162, 0.0822, 0.0738, 0.0750, 0.1314,\n",
      "         0.0848],\n",
      "        [0.1199, 0.0987, 0.1115, 0.1353, 0.1160, 0.0708, 0.0735, 0.0728, 0.1178,\n",
      "         0.0836],\n",
      "        [0.1182, 0.0988, 0.1075, 0.1284, 0.1026, 0.0829, 0.0655, 0.0853, 0.1242,\n",
      "         0.0866]], grad_fn=<SoftmaxBackward0>)\n"
     ]
    }
   ],
   "source": [
    "softmax = nn.Softmax(dim = 1)\n",
    "\n",
    "pred_probab = softmax(logits)\n",
    "print(pred_probab)"
   ]
  },
  {
   "cell_type": "markdown",
   "id": "d7c7987f-f9c5-4041-914d-17b8e9bf3645",
   "metadata": {},
   "source": [
    "## 모델 매개변수"
   ]
  },
  {
   "cell_type": "markdown",
   "id": "5a24500b-f17a-44c9-86f1-581695270109",
   "metadata": {},
   "source": [
    "신경망 내부의 많은 계층들은 **매개변수화(parameterize)** 된다. 즉, 학습 중에 최적화되는 가중치와 편향과 연관지어진다.\n",
    "\n",
    "`nn.Module`을 상속하면 모델 객체 내부의 모든 필드들이 자동으로 추적(track)되며, 모델의 `parameters()` 및 `named_parameters()` 메소드로 모든 매개변수에 접근할 수 있게 된다.\n",
    "\n",
    "이 예제에서는 각 매개변수들을 순회하며, 매개변수의 크기와 값을 출력해보도록 하자."
   ]
  },
  {
   "cell_type": "code",
   "execution_count": 60,
   "id": "1c9ae771-4d65-4cab-8be8-215ce9fe5e31",
   "metadata": {},
   "outputs": [
    {
     "name": "stdout",
     "output_type": "stream",
     "text": [
      "Model structure : \n",
      "\n",
      " NeuralNetwork(\n",
      "  (flatten): Flatten(start_dim=1, end_dim=-1)\n",
      "  (linear_relu_stack): Sequential(\n",
      "    (0): Linear(in_features=784, out_features=512, bias=True)\n",
      "    (1): ReLU()\n",
      "    (2): Linear(in_features=512, out_features=512, bias=True)\n",
      "    (3): ReLU()\n",
      "    (4): Linear(in_features=512, out_features=10, bias=True)\n",
      "  )\n",
      ") \n",
      "\n",
      "\n",
      "Layer : linear_relu_stack.0.weight \n",
      "\n",
      "Size : torch.Size([512, 784]) \n",
      "\n",
      "Values : tensor([[ 0.0008, -0.0091,  0.0331,  ..., -0.0275,  0.0231,  0.0146],\n",
      "        [-0.0127,  0.0049, -0.0117,  ...,  0.0099, -0.0144,  0.0353]],\n",
      "       grad_fn=<SliceBackward0>) \n",
      "\n",
      "\n",
      "Layer : linear_relu_stack.0.bias \n",
      "\n",
      "Size : torch.Size([512]) \n",
      "\n",
      "Values : tensor([-0.0066, -0.0348], grad_fn=<SliceBackward0>) \n",
      "\n",
      "\n",
      "Layer : linear_relu_stack.2.weight \n",
      "\n",
      "Size : torch.Size([512, 512]) \n",
      "\n",
      "Values : tensor([[ 0.0200, -0.0050, -0.0217,  ..., -0.0218, -0.0185, -0.0175],\n",
      "        [-0.0006,  0.0027, -0.0371,  ...,  0.0095,  0.0163, -0.0311]],\n",
      "       grad_fn=<SliceBackward0>) \n",
      "\n",
      "\n",
      "Layer : linear_relu_stack.2.bias \n",
      "\n",
      "Size : torch.Size([512]) \n",
      "\n",
      "Values : tensor([0.0289, 0.0008], grad_fn=<SliceBackward0>) \n",
      "\n",
      "\n",
      "Layer : linear_relu_stack.4.weight \n",
      "\n",
      "Size : torch.Size([10, 512]) \n",
      "\n",
      "Values : tensor([[-0.0023, -0.0313, -0.0300,  ..., -0.0102, -0.0227,  0.0432],\n",
      "        [ 0.0183,  0.0417,  0.0366,  ..., -0.0296,  0.0013, -0.0268]],\n",
      "       grad_fn=<SliceBackward0>) \n",
      "\n",
      "\n",
      "Layer : linear_relu_stack.4.bias \n",
      "\n",
      "Size : torch.Size([10]) \n",
      "\n",
      "Values : tensor([-0.0180,  0.0086], grad_fn=<SliceBackward0>) \n",
      "\n",
      "\n"
     ]
    }
   ],
   "source": [
    "print(\"Model structure : \\n\\n\", model, \"\\n\\n\")\n",
    "\n",
    "for name, param in model.named_parameters():\n",
    "    print(f\"Layer : {name} \\n\")\n",
    "    print(f\"Size : {param.size()} \\n\")\n",
    "    print(f\"Values : {param[:2]} \\n\\n\")"
   ]
  }
 ],
 "metadata": {
  "kernelspec": {
   "display_name": "Python 3 (ipykernel)",
   "language": "python",
   "name": "python3"
  },
  "language_info": {
   "codemirror_mode": {
    "name": "ipython",
    "version": 3
   },
   "file_extension": ".py",
   "mimetype": "text/x-python",
   "name": "python",
   "nbconvert_exporter": "python",
   "pygments_lexer": "ipython3",
   "version": "3.8.8"
  }
 },
 "nbformat": 4,
 "nbformat_minor": 5
}
